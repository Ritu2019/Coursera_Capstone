{
 "cells": [
  {
   "cell_type": "markdown",
   "metadata": {
    "collapsed": true
   },
   "source": [
    "## The Battle of Neighborhoods (Week 1) - Part 1"
   ]
  },
  {
   "cell_type": "markdown",
   "metadata": {},
   "source": [
    "### By Ritu"
   ]
  },
  {
   "cell_type": "markdown",
   "metadata": {},
   "source": [
    "### Introduction:"
   ]
  },
  {
   "cell_type": "markdown",
   "metadata": {},
   "source": [
    "ABC Gym is an American chain international co-ed fitness centre. Its branches are located all over the world. The ABC Gym known for continuously updating their gym with all the latest equipment you need. Aside from offering strength training and cardio equipment, their gyms also have several exercise programs including Pilates, endurance training, mixed martial arts, group cycling, yoga and Zumba among others. In addition, they have skilled and certified personal trainers and staff who will attend to your needs. "
   ]
  },
  {
   "cell_type": "markdown",
   "metadata": {},
   "source": [
    "The client ABC Gym wants to open a branch in Bangalore, India. Bangalore is the IT capital of India. Like any other place, people in Bangalore city are becoming more health conscious. The IT professionals who spends most of their day time sitting in a cubical without any physical activity may harm their health in many ways. Everyone has a special inclination towards maintaining a great physique or health. Gyms are going high on demand among fitness conscious people and this has remained as the key to success for many gyms and fitness centres in India."
   ]
  },
  {
   "cell_type": "markdown",
   "metadata": {},
   "source": [
    "### Business Problem:"
   ]
  },
  {
   "cell_type": "markdown",
   "metadata": {},
   "source": [
    "The client needs the help of analysing the prospect of finding the right location to start the business which will ensure that the business can deliver good amount of profit on a long run.\n",
    "To survive in such competitive market, it is very important to plan strategically. Various factors need to be studied in order to decide on the Location such as:\n"
   ]
  },
  {
   "cell_type": "markdown",
   "metadata": {},
   "source": [
    "* Bangalore Population \n",
    "* Bangalore City Demographics \n",
    "* Is there any office or commercial place nearby?\n",
    "* Is there any eatery nearby?\n",
    "* Is there any IT Park nearby?\n",
    "* Is there any Residential are nearby?\n",
    "* Who are the competitors in that location? \n",
    "* What are the facilities available at the competitors? \n",
    "* Segmentation of the Neighbourhood"
   ]
  },
  {
   "cell_type": "code",
   "execution_count": null,
   "metadata": {},
   "outputs": [],
   "source": []
  }
 ],
 "metadata": {
  "kernelspec": {
   "display_name": "Python 3.6",
   "language": "python",
   "name": "python3"
  },
  "language_info": {
   "codemirror_mode": {
    "name": "ipython",
    "version": 3
   },
   "file_extension": ".py",
   "mimetype": "text/x-python",
   "name": "python",
   "nbconvert_exporter": "python",
   "pygments_lexer": "ipython3",
   "version": "3.6.8"
  }
 },
 "nbformat": 4,
 "nbformat_minor": 1
}
