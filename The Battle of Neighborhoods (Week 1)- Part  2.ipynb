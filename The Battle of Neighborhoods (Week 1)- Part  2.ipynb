{
 "cells": [
  {
   "cell_type": "markdown",
   "metadata": {
    "collapsed": true
   },
   "source": [
    "## The Battle of Neighborhoods (Week 1) - Part 1"
   ]
  },
  {
   "cell_type": "markdown",
   "metadata": {},
   "source": [
    "### By Ritu"
   ]
  },
  {
   "cell_type": "markdown",
   "metadata": {},
   "source": [
    "### Introduction:"
   ]
  },
  {
   "cell_type": "markdown",
   "metadata": {},
   "source": [
    "ABC Gym is an American chain international co-ed fitness centre. Its branches are located all over the world. The ABC Gym known for continuously updating their gym with all the latest equipment you need. Aside from offering strength training and cardio equipment, their gyms also have several exercise programs including Pilates, endurance training, mixed martial arts, group cycling, yoga and Zumba among others. In addition, they have skilled and certified personal trainers and staff who will attend to your needs. "
   ]
  },
  {
   "cell_type": "markdown",
   "metadata": {},
   "source": [
    "The client ABC Gym wants to open a branch in Bangalore, India. Bangalore is the IT capital of India. Like any other place, people in Bangalore city are becoming more health conscious. The IT professionals who spends most of their day time sitting in a cubical without any physical activity may harm their health in many ways. Everyone has a special inclination towards maintaining a great physique or health. Gyms are going high on demand among fitness conscious people and this has remained as the key to success for many gyms and fitness centres in India."
   ]
  },
  {
   "cell_type": "markdown",
   "metadata": {},
   "source": [
    "### Business Problem:"
   ]
  },
  {
   "cell_type": "markdown",
   "metadata": {},
   "source": [
    "The client needs the help of analysing the prospect of finding the right location to start the business which will ensure that the business can deliver good amount of profit on a long run.\n",
    "To survive in such competitive market, it is very important to plan strategically. Various factors need to be studied in order to decide on the Location such as:\n"
   ]
  },
  {
   "cell_type": "markdown",
   "metadata": {},
   "source": [
    "* Bangalore Population \n",
    "* Bangalore City Demographics \n",
    "* Is there any office or commercial place nearby?\n",
    "* Is there any eatery nearby?\n",
    "* Is there any IT Park nearby?\n",
    "* Is there any Residential are nearby?\n",
    "* Who are the competitors in that location? \n",
    "* What are the facilities available at the competitors? \n",
    "* Segmentation of the Neighbourhood"
   ]
  },
  {
   "cell_type": "markdown",
   "metadata": {},
   "source": [
    "### Data"
   ]
  },
  {
   "cell_type": "markdown",
   "metadata": {},
   "source": [
    "ABC Gym need the correct location to start its first venture. If this is successful and they want to replicate the same in other locations in Bangalore city. So, the finding the right location is very important."
   ]
  },
  {
   "cell_type": "markdown",
   "metadata": {},
   "source": [
    "For this problem it is required to explore and cluster the neighborhoods in Bangalore. Based on the business problem presented above, here are the factors that influence the potential location:"
   ]
  },
  {
   "cell_type": "markdown",
   "metadata": {},
   "source": [
    "* The number of existing Gym in a neighbourhood/area\n",
    "* The number of and distance to existing Gym in the neighborhood/area \n",
    "* The distance of the neighborhood/area from the city center\n",
    "* The distance of the neighborhood/are from the nearest Residential area\n",
    "* The distance of the neighborhood/are from the nearest IT Park"
   ]
  },
  {
   "cell_type": "markdown",
   "metadata": {},
   "source": [
    "To analyse the data, I will be using \n",
    "    1. Foursquare API to explore and analyse the Neighbourhood.\n",
    "    2. Google Maps API geocoding for obtaining the coordinates of the Neighbourhood areas\n",
    "Now let's plan how the data can be uses to solve the problem or execute the idea:"
   ]
  },
  {
   "cell_type": "markdown",
   "metadata": {},
   "source": [
    "* Use Foursquare and geopy data to map top 10 venues for all Bangalore neighborhoods and clustered in groups\n",
    "* Use foursquare and geopy data to map the location of existing Gyms and explore each Gym separately\n",
    "* Use Foursquare and geopy data to map the location of all top 10 venues from the city center\n",
    "* Use Foursquare and geopy data to map the location of rental places\n",
    "* create a map that depicts, for instance, the amenities available at the existing Gym, cost of the membership per month etc\n",
    "* Group the neighborhoods on the basis of frequency of occurrence of each category above\n",
    "* Run k-means to cluster the neighborhood into 5 clusters.\n",
    "* Examine each of the five clusters for the suitable location"
   ]
  },
  {
   "cell_type": "markdown",
   "metadata": {},
   "source": [
    "#### By end of the analysis, we will have the top 5 locations for opening of the branch of ABC Gym in Bangalore neighborhood."
   ]
  },
  {
   "cell_type": "code",
   "execution_count": null,
   "metadata": {},
   "outputs": [],
   "source": []
  }
 ],
 "metadata": {
  "kernelspec": {
   "display_name": "Python 3.6",
   "language": "python",
   "name": "python3"
  },
  "language_info": {
   "codemirror_mode": {
    "name": "ipython",
    "version": 3
   },
   "file_extension": ".py",
   "mimetype": "text/x-python",
   "name": "python",
   "nbconvert_exporter": "python",
   "pygments_lexer": "ipython3",
   "version": "3.6.8"
  }
 },
 "nbformat": 4,
 "nbformat_minor": 1
}
